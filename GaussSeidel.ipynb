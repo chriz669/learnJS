{
  "nbformat": 4,
  "nbformat_minor": 0,
  "metadata": {
    "colab": {
      "name": "GaussSeidel.ipynb",
      "provenance": [],
      "collapsed_sections": [],
      "authorship_tag": "ABX9TyN/1N/JFLzfdgw2TKAOMhTb",
      "include_colab_link": true
    },
    "kernelspec": {
      "name": "python3",
      "display_name": "Python 3"
    },
    "language_info": {
      "name": "python"
    }
  },
  "cells": [
    {
      "cell_type": "markdown",
      "metadata": {
        "id": "view-in-github",
        "colab_type": "text"
      },
      "source": [
        "<a href=\"https://colab.research.google.com/github/chriz669/learnJS/blob/main/GaussSeidel.ipynb\" target=\"_parent\"><img src=\"https://colab.research.google.com/assets/colab-badge.svg\" alt=\"Open In Colab\"/></a>"
      ]
    },
    {
      "cell_type": "code",
      "source": [
        "import numpy as np"
      ],
      "metadata": {
        "id": "6xJx0acJlgZU"
      },
      "execution_count": null,
      "outputs": []
    },
    {
      "cell_type": "code",
      "source": [
        "A = np.array([[10, 2, -1, 0],\n",
        "              [1, 20, -2, 3],\n",
        "              [-2, 20, 30, 0 ],\n",
        "              [1, 2, 3, 20]])\n",
        "\n",
        "B = np.array([26, -15, 53, 47])\n",
        "\n",
        "X0  = np.array([1.,2.,3.,4.])\n",
        "x0= np.array([0.,0.,0.,0.])"
      ],
      "metadata": {
        "id": "Vk0kZIXlltcx"
      },
      "execution_count": null,
      "outputs": []
    },
    {
      "cell_type": "code",
      "source": [
        "# Gauss-Seidel\n",
        "tamano = np.shape(A)\n",
        "n = tamano[0]\n",
        "m = tamano[1]\n",
        "itera = 100"
      ],
      "metadata": {
        "id": "qPCfpnN3lV-R"
      },
      "execution_count": null,
      "outputs": []
    },
    {
      "cell_type": "code",
      "source": [
        "a = []\n",
        "for i in range(0,n,1):\n",
        "  a.append(A[i,i])\n",
        "  A[i,i]=0\n"
      ],
      "metadata": {
        "id": "dp-Zd-YcoANT"
      },
      "execution_count": null,
      "outputs": []
    },
    {
      "cell_type": "code",
      "source": [
        "for i in range(0, itera,1):\n",
        "  X0 = (B-np.matmul(A,X0))/a"
      ],
      "metadata": {
        "id": "A2kCgoDPsH-g"
      },
      "execution_count": null,
      "outputs": []
    },
    {
      "cell_type": "code",
      "source": [
        "X0"
      ],
      "metadata": {
        "colab": {
          "base_uri": "https://localhost:8080/"
        },
        "id": "YNI09SD7tPbZ",
        "outputId": "bf3a02e6-f979-4298-e973-c0a8e0a85ea6"
      },
      "execution_count": null,
      "outputs": [
        {
          "output_type": "execute_result",
          "data": {
            "text/plain": [
              "array([ 3.04461792, -0.92870176,  2.5887757 ,  1.90232292])"
            ]
          },
          "metadata": {},
          "execution_count": 46
        }
      ]
    },
    {
      "cell_type": "code",
      "source": [
        "A = np.array([[10, 2, -1, 0],\n",
        "              [1, 20, -2, 3],\n",
        "              [-2, 20, 30, 0 ],\n",
        "              [1, 2, 3, 20]])\n",
        "\n",
        "B = np.array([26, -15, 53, 47])"
      ],
      "metadata": {
        "id": "kQtZczsFtQX0"
      },
      "execution_count": null,
      "outputs": []
    },
    {
      "cell_type": "code",
      "source": [
        "np.matmul(A,X0)"
      ],
      "metadata": {
        "colab": {
          "base_uri": "https://localhost:8080/"
        },
        "id": "TSVQzCWbt1Pl",
        "outputId": "ece8ecda-813c-4803-c094-974eb201c103"
      },
      "execution_count": null,
      "outputs": [
        {
          "output_type": "execute_result",
          "data": {
            "text/plain": [
              "array([ 26., -15.,  53.,  47.])"
            ]
          },
          "metadata": {},
          "execution_count": 48
        }
      ]
    },
    {
      "cell_type": "code",
      "source": [
        ""
      ],
      "metadata": {
        "id": "EviJqd_8t7nc"
      },
      "execution_count": null,
      "outputs": []
    }
  ]
}